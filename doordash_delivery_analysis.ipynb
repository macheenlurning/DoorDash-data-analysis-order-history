{
 "cells": [
  {
   "cell_type": "markdown",
   "metadata": {},
   "source": [
    "INSERT PRELIMINARY INFO HERE"
   ]
  },
  {
   "cell_type": "code",
   "execution_count": 1,
   "metadata": {},
   "outputs": [],
   "source": [
    "import os\n",
    "import pandas as pd\n",
    "import numpy as np\n",
    "import matplotlib.pyplot as plt\n",
    "import seaborn as sns"
   ]
  },
  {
   "cell_type": "code",
   "execution_count": 2,
   "metadata": {},
   "outputs": [],
   "source": [
    "# read and make a copy of the file\n",
    "\n",
    "dd_orig = pd.read_csv(\"doordash_order_history.csv\", encoding= 'ANSI')\n",
    "dd = dd_orig.copy()"
   ]
  },
  {
   "cell_type": "code",
   "execution_count": 3,
   "metadata": {
    "scrolled": false
   },
   "outputs": [
    {
     "name": "stdout",
     "output_type": "stream",
     "text": [
      "<class 'pandas.core.frame.DataFrame'>\n",
      "RangeIndex: 168 entries, 0 to 167\n",
      "Data columns (total 7 columns):\n",
      " #   Column        Non-Null Count  Dtype  \n",
      "---  ------        --------------  -----  \n",
      " 0   Order Number  167 non-null    float64\n",
      " 1   Date          167 non-null    object \n",
      " 2   Time          167 non-null    object \n",
      " 3   Restaurant    167 non-null    object \n",
      " 4   Cuisine       167 non-null    object \n",
      " 5   Items         167 non-null    float64\n",
      " 6   Cost          167 non-null    object \n",
      "dtypes: float64(2), object(5)\n",
      "memory usage: 6.0+ KB\n"
     ]
    }
   ],
   "source": [
    "# taking a look into the data\n",
    "\n",
    "dd.info()"
   ]
  },
  {
   "cell_type": "markdown",
   "metadata": {},
   "source": [
    "INSERT ANALYSIS HERE - plans to clean: cleaning Cost column, combining Time and Date column and  formatting to datetime\n"
   ]
  },
  {
   "cell_type": "code",
   "execution_count": 4,
   "metadata": {
    "scrolled": true
   },
   "outputs": [
    {
     "name": "stdout",
     "output_type": "stream",
     "text": [
      "<class 'pandas.core.frame.DataFrame'>\n",
      "RangeIndex: 168 entries, 0 to 167\n",
      "Data columns (total 7 columns):\n",
      " #   Column        Non-Null Count  Dtype  \n",
      "---  ------        --------------  -----  \n",
      " 0   Order Number  167 non-null    float64\n",
      " 1   Date          167 non-null    object \n",
      " 2   Time          167 non-null    object \n",
      " 3   Restaurant    167 non-null    object \n",
      " 4   Cuisine       167 non-null    object \n",
      " 5   Items         167 non-null    float64\n",
      " 6   Cost          167 non-null    float64\n",
      "dtypes: float64(3), object(4)\n",
      "memory usage: 6.6+ KB\n"
     ]
    },
    {
     "data": {
      "text/plain": [
       "0      30.71\n",
       "1      50.03\n",
       "2      47.41\n",
       "3      27.93\n",
       "4      24.15\n",
       "       ...  \n",
       "163    33.01\n",
       "164    44.25\n",
       "165    41.01\n",
       "166    29.88\n",
       "167      NaN\n",
       "Name: Cost, Length: 168, dtype: float64"
      ]
     },
     "execution_count": 4,
     "metadata": {},
     "output_type": "execute_result"
    }
   ],
   "source": [
    "# cleaning the Cost column, removing symbols and formating column to a float\n",
    "\n",
    "dd['Cost'] = dd['Cost'].str.replace('$','')\n",
    "dd['Cost'] = dd['Cost'].astype('float')\n",
    "dd.info()\n",
    "dd['Cost']"
   ]
  },
  {
   "cell_type": "code",
   "execution_count": 5,
   "metadata": {},
   "outputs": [
    {
     "name": "stdout",
     "output_type": "stream",
     "text": [
      "<class 'pandas.core.frame.DataFrame'>\n",
      "RangeIndex: 168 entries, 0 to 167\n",
      "Data columns (total 8 columns):\n",
      " #   Column        Non-Null Count  Dtype         \n",
      "---  ------        --------------  -----         \n",
      " 0   Order Number  167 non-null    float64       \n",
      " 1   Date          167 non-null    object        \n",
      " 2   Time          167 non-null    object        \n",
      " 3   Restaurant    167 non-null    object        \n",
      " 4   Cuisine       167 non-null    object        \n",
      " 5   Items         167 non-null    float64       \n",
      " 6   Cost          167 non-null    float64       \n",
      " 7   Date Time     167 non-null    datetime64[ns]\n",
      "dtypes: datetime64[ns](1), float64(3), object(4)\n",
      "memory usage: 7.9+ KB\n"
     ]
    },
    {
     "data": {
      "text/plain": [
       "0     2020-10-16 14:41:00\n",
       "1     2020-10-15 14:47:00\n",
       "2     2020-10-14 20:03:00\n",
       "3     2020-10-10 14:20:00\n",
       "4     2020-10-08 13:02:00\n",
       "              ...        \n",
       "163   2019-01-19 16:26:00\n",
       "164   2019-01-09 20:10:00\n",
       "165   2019-01-05 19:28:00\n",
       "166   2018-12-23 18:42:00\n",
       "167                   NaT\n",
       "Name: Date Time, Length: 168, dtype: datetime64[ns]"
      ]
     },
     "execution_count": 5,
     "metadata": {},
     "output_type": "execute_result"
    }
   ],
   "source": [
    "# combining date and time columns (strings) into one column with datetime format\n",
    "\n",
    "dd['Date Time'] = dd['Date'] + ' ' + dd['Time']\n",
    "dd['Date Time'] = pd.to_datetime(dd['Date Time'])\n",
    "dd.info()\n",
    "dd['Date Time']"
   ]
  },
  {
   "cell_type": "code",
   "execution_count": 6,
   "metadata": {
    "scrolled": true
   },
   "outputs": [
    {
     "data": {
      "text/html": [
       "<div>\n",
       "<style scoped>\n",
       "    .dataframe tbody tr th:only-of-type {\n",
       "        vertical-align: middle;\n",
       "    }\n",
       "\n",
       "    .dataframe tbody tr th {\n",
       "        vertical-align: top;\n",
       "    }\n",
       "\n",
       "    .dataframe thead th {\n",
       "        text-align: right;\n",
       "    }\n",
       "</style>\n",
       "<table border=\"1\" class=\"dataframe\">\n",
       "  <thead>\n",
       "    <tr style=\"text-align: right;\">\n",
       "      <th></th>\n",
       "      <th>Order Number</th>\n",
       "      <th>Restaurant</th>\n",
       "      <th>Cuisine</th>\n",
       "      <th>Items</th>\n",
       "      <th>Cost</th>\n",
       "      <th>Date Time</th>\n",
       "    </tr>\n",
       "  </thead>\n",
       "  <tbody>\n",
       "    <tr>\n",
       "      <th>0</th>\n",
       "      <td>167.0</td>\n",
       "      <td>Sycamore Grill</td>\n",
       "      <td>American</td>\n",
       "      <td>2.0</td>\n",
       "      <td>30.71</td>\n",
       "      <td>2020-10-16 14:41:00</td>\n",
       "    </tr>\n",
       "    <tr>\n",
       "      <th>1</th>\n",
       "      <td>166.0</td>\n",
       "      <td>Moish &amp; Itzy's Deli</td>\n",
       "      <td>Diner</td>\n",
       "      <td>4.0</td>\n",
       "      <td>50.03</td>\n",
       "      <td>2020-10-15 14:47:00</td>\n",
       "    </tr>\n",
       "    <tr>\n",
       "      <th>2</th>\n",
       "      <td>165.0</td>\n",
       "      <td>La Stalla</td>\n",
       "      <td>Italian</td>\n",
       "      <td>2.0</td>\n",
       "      <td>47.41</td>\n",
       "      <td>2020-10-14 20:03:00</td>\n",
       "    </tr>\n",
       "    <tr>\n",
       "      <th>3</th>\n",
       "      <td>164.0</td>\n",
       "      <td>Lovebird</td>\n",
       "      <td>Chicken</td>\n",
       "      <td>3.0</td>\n",
       "      <td>27.93</td>\n",
       "      <td>2020-10-10 14:20:00</td>\n",
       "    </tr>\n",
       "    <tr>\n",
       "      <th>4</th>\n",
       "      <td>163.0</td>\n",
       "      <td>Burritos</td>\n",
       "      <td>Mexican</td>\n",
       "      <td>2.0</td>\n",
       "      <td>24.15</td>\n",
       "      <td>2020-10-08 13:02:00</td>\n",
       "    </tr>\n",
       "    <tr>\n",
       "      <th>...</th>\n",
       "      <td>...</td>\n",
       "      <td>...</td>\n",
       "      <td>...</td>\n",
       "      <td>...</td>\n",
       "      <td>...</td>\n",
       "      <td>...</td>\n",
       "    </tr>\n",
       "    <tr>\n",
       "      <th>163</th>\n",
       "      <td>4.0</td>\n",
       "      <td>Sycamore Grill</td>\n",
       "      <td>American</td>\n",
       "      <td>2.0</td>\n",
       "      <td>33.01</td>\n",
       "      <td>2019-01-19 16:26:00</td>\n",
       "    </tr>\n",
       "    <tr>\n",
       "      <th>164</th>\n",
       "      <td>3.0</td>\n",
       "      <td>Friends Bar &amp; Grille</td>\n",
       "      <td>Tavern</td>\n",
       "      <td>2.0</td>\n",
       "      <td>44.25</td>\n",
       "      <td>2019-01-09 20:10:00</td>\n",
       "    </tr>\n",
       "    <tr>\n",
       "      <th>165</th>\n",
       "      <td>2.0</td>\n",
       "      <td>De Lorenzo's Tomato Pies</td>\n",
       "      <td>Pizza</td>\n",
       "      <td>1.0</td>\n",
       "      <td>41.01</td>\n",
       "      <td>2019-01-05 19:28:00</td>\n",
       "    </tr>\n",
       "    <tr>\n",
       "      <th>166</th>\n",
       "      <td>1.0</td>\n",
       "      <td>De Lorenzo's Tomato Pies</td>\n",
       "      <td>Pizza</td>\n",
       "      <td>1.0</td>\n",
       "      <td>29.88</td>\n",
       "      <td>2018-12-23 18:42:00</td>\n",
       "    </tr>\n",
       "    <tr>\n",
       "      <th>167</th>\n",
       "      <td>NaN</td>\n",
       "      <td>NaN</td>\n",
       "      <td>NaN</td>\n",
       "      <td>NaN</td>\n",
       "      <td>NaN</td>\n",
       "      <td>NaT</td>\n",
       "    </tr>\n",
       "  </tbody>\n",
       "</table>\n",
       "<p>168 rows × 6 columns</p>\n",
       "</div>"
      ],
      "text/plain": [
       "     Order Number                Restaurant   Cuisine  Items   Cost  \\\n",
       "0           167.0            Sycamore Grill  American    2.0  30.71   \n",
       "1           166.0       Moish & Itzy's Deli     Diner    4.0  50.03   \n",
       "2           165.0                 La Stalla   Italian    2.0  47.41   \n",
       "3           164.0                  Lovebird   Chicken    3.0  27.93   \n",
       "4           163.0                  Burritos   Mexican    2.0  24.15   \n",
       "..            ...                       ...       ...    ...    ...   \n",
       "163           4.0            Sycamore Grill  American    2.0  33.01   \n",
       "164           3.0      Friends Bar & Grille    Tavern    2.0  44.25   \n",
       "165           2.0  De Lorenzo's Tomato Pies     Pizza    1.0  41.01   \n",
       "166           1.0  De Lorenzo's Tomato Pies     Pizza    1.0  29.88   \n",
       "167           NaN                       NaN       NaN    NaN    NaN   \n",
       "\n",
       "              Date Time  \n",
       "0   2020-10-16 14:41:00  \n",
       "1   2020-10-15 14:47:00  \n",
       "2   2020-10-14 20:03:00  \n",
       "3   2020-10-10 14:20:00  \n",
       "4   2020-10-08 13:02:00  \n",
       "..                  ...  \n",
       "163 2019-01-19 16:26:00  \n",
       "164 2019-01-09 20:10:00  \n",
       "165 2019-01-05 19:28:00  \n",
       "166 2018-12-23 18:42:00  \n",
       "167                 NaT  \n",
       "\n",
       "[168 rows x 6 columns]"
      ]
     },
     "execution_count": 6,
     "metadata": {},
     "output_type": "execute_result"
    }
   ],
   "source": [
    "# Removing the separated Date & Time columns\n",
    "\n",
    "dd = dd.drop('Date', axis=1)\n",
    "dd = dd.drop('Time', axis=1)\n",
    "dd"
   ]
  },
  {
   "cell_type": "code",
   "execution_count": 7,
   "metadata": {},
   "outputs": [
    {
     "data": {
      "text/html": [
       "<div>\n",
       "<style scoped>\n",
       "    .dataframe tbody tr th:only-of-type {\n",
       "        vertical-align: middle;\n",
       "    }\n",
       "\n",
       "    .dataframe tbody tr th {\n",
       "        vertical-align: top;\n",
       "    }\n",
       "\n",
       "    .dataframe thead th {\n",
       "        text-align: right;\n",
       "    }\n",
       "</style>\n",
       "<table border=\"1\" class=\"dataframe\">\n",
       "  <thead>\n",
       "    <tr style=\"text-align: right;\">\n",
       "      <th></th>\n",
       "      <th>Order Number</th>\n",
       "      <th>Date Time</th>\n",
       "      <th>Restaurant</th>\n",
       "      <th>Cuisine</th>\n",
       "      <th>Items</th>\n",
       "      <th>Cost</th>\n",
       "    </tr>\n",
       "  </thead>\n",
       "  <tbody>\n",
       "    <tr>\n",
       "      <th>0</th>\n",
       "      <td>167.0</td>\n",
       "      <td>2020-10-16 14:41:00</td>\n",
       "      <td>Sycamore Grill</td>\n",
       "      <td>American</td>\n",
       "      <td>2.0</td>\n",
       "      <td>30.71</td>\n",
       "    </tr>\n",
       "    <tr>\n",
       "      <th>1</th>\n",
       "      <td>166.0</td>\n",
       "      <td>2020-10-15 14:47:00</td>\n",
       "      <td>Moish &amp; Itzy's Deli</td>\n",
       "      <td>Diner</td>\n",
       "      <td>4.0</td>\n",
       "      <td>50.03</td>\n",
       "    </tr>\n",
       "    <tr>\n",
       "      <th>2</th>\n",
       "      <td>165.0</td>\n",
       "      <td>2020-10-14 20:03:00</td>\n",
       "      <td>La Stalla</td>\n",
       "      <td>Italian</td>\n",
       "      <td>2.0</td>\n",
       "      <td>47.41</td>\n",
       "    </tr>\n",
       "    <tr>\n",
       "      <th>3</th>\n",
       "      <td>164.0</td>\n",
       "      <td>2020-10-10 14:20:00</td>\n",
       "      <td>Lovebird</td>\n",
       "      <td>Chicken</td>\n",
       "      <td>3.0</td>\n",
       "      <td>27.93</td>\n",
       "    </tr>\n",
       "    <tr>\n",
       "      <th>4</th>\n",
       "      <td>163.0</td>\n",
       "      <td>2020-10-08 13:02:00</td>\n",
       "      <td>Burritos</td>\n",
       "      <td>Mexican</td>\n",
       "      <td>2.0</td>\n",
       "      <td>24.15</td>\n",
       "    </tr>\n",
       "    <tr>\n",
       "      <th>...</th>\n",
       "      <td>...</td>\n",
       "      <td>...</td>\n",
       "      <td>...</td>\n",
       "      <td>...</td>\n",
       "      <td>...</td>\n",
       "      <td>...</td>\n",
       "    </tr>\n",
       "    <tr>\n",
       "      <th>163</th>\n",
       "      <td>4.0</td>\n",
       "      <td>2019-01-19 16:26:00</td>\n",
       "      <td>Sycamore Grill</td>\n",
       "      <td>American</td>\n",
       "      <td>2.0</td>\n",
       "      <td>33.01</td>\n",
       "    </tr>\n",
       "    <tr>\n",
       "      <th>164</th>\n",
       "      <td>3.0</td>\n",
       "      <td>2019-01-09 20:10:00</td>\n",
       "      <td>Friends Bar &amp; Grille</td>\n",
       "      <td>Tavern</td>\n",
       "      <td>2.0</td>\n",
       "      <td>44.25</td>\n",
       "    </tr>\n",
       "    <tr>\n",
       "      <th>165</th>\n",
       "      <td>2.0</td>\n",
       "      <td>2019-01-05 19:28:00</td>\n",
       "      <td>De Lorenzo's Tomato Pies</td>\n",
       "      <td>Pizza</td>\n",
       "      <td>1.0</td>\n",
       "      <td>41.01</td>\n",
       "    </tr>\n",
       "    <tr>\n",
       "      <th>166</th>\n",
       "      <td>1.0</td>\n",
       "      <td>2018-12-23 18:42:00</td>\n",
       "      <td>De Lorenzo's Tomato Pies</td>\n",
       "      <td>Pizza</td>\n",
       "      <td>1.0</td>\n",
       "      <td>29.88</td>\n",
       "    </tr>\n",
       "    <tr>\n",
       "      <th>167</th>\n",
       "      <td>NaN</td>\n",
       "      <td>NaT</td>\n",
       "      <td>NaN</td>\n",
       "      <td>NaN</td>\n",
       "      <td>NaN</td>\n",
       "      <td>NaN</td>\n",
       "    </tr>\n",
       "  </tbody>\n",
       "</table>\n",
       "<p>168 rows × 6 columns</p>\n",
       "</div>"
      ],
      "text/plain": [
       "     Order Number           Date Time                Restaurant   Cuisine  \\\n",
       "0           167.0 2020-10-16 14:41:00            Sycamore Grill  American   \n",
       "1           166.0 2020-10-15 14:47:00       Moish & Itzy's Deli     Diner   \n",
       "2           165.0 2020-10-14 20:03:00                 La Stalla   Italian   \n",
       "3           164.0 2020-10-10 14:20:00                  Lovebird   Chicken   \n",
       "4           163.0 2020-10-08 13:02:00                  Burritos   Mexican   \n",
       "..            ...                 ...                       ...       ...   \n",
       "163           4.0 2019-01-19 16:26:00            Sycamore Grill  American   \n",
       "164           3.0 2019-01-09 20:10:00      Friends Bar & Grille    Tavern   \n",
       "165           2.0 2019-01-05 19:28:00  De Lorenzo's Tomato Pies     Pizza   \n",
       "166           1.0 2018-12-23 18:42:00  De Lorenzo's Tomato Pies     Pizza   \n",
       "167           NaN                 NaT                       NaN       NaN   \n",
       "\n",
       "     Items   Cost  \n",
       "0      2.0  30.71  \n",
       "1      4.0  50.03  \n",
       "2      2.0  47.41  \n",
       "3      3.0  27.93  \n",
       "4      2.0  24.15  \n",
       "..     ...    ...  \n",
       "163    2.0  33.01  \n",
       "164    2.0  44.25  \n",
       "165    1.0  41.01  \n",
       "166    1.0  29.88  \n",
       "167    NaN    NaN  \n",
       "\n",
       "[168 rows x 6 columns]"
      ]
     },
     "execution_count": 7,
     "metadata": {},
     "output_type": "execute_result"
    }
   ],
   "source": [
    "# moving Date Time column to the front after the Order Number\n",
    "\n",
    "new_col = 'Date Time'\n",
    "new_dt = dd.pop('Date Time')\n",
    "dd.insert(1, new_col, new_dt)\n",
    "dd"
   ]
  },
  {
   "cell_type": "code",
   "execution_count": 8,
   "metadata": {
    "scrolled": true
   },
   "outputs": [
    {
     "data": {
      "text/plain": [
       "Order Number    1\n",
       "Date Time       1\n",
       "Restaurant      1\n",
       "Cuisine         1\n",
       "Items           1\n",
       "Cost            1\n",
       "dtype: int64"
      ]
     },
     "execution_count": 8,
     "metadata": {},
     "output_type": "execute_result"
    }
   ],
   "source": [
    "# checking if there are any null values\n",
    "\n",
    "dd.isnull().sum()"
   ]
  },
  {
   "cell_type": "code",
   "execution_count": 9,
   "metadata": {},
   "outputs": [
    {
     "data": {
      "text/html": [
       "<div>\n",
       "<style scoped>\n",
       "    .dataframe tbody tr th:only-of-type {\n",
       "        vertical-align: middle;\n",
       "    }\n",
       "\n",
       "    .dataframe tbody tr th {\n",
       "        vertical-align: top;\n",
       "    }\n",
       "\n",
       "    .dataframe thead th {\n",
       "        text-align: right;\n",
       "    }\n",
       "</style>\n",
       "<table border=\"1\" class=\"dataframe\">\n",
       "  <thead>\n",
       "    <tr style=\"text-align: right;\">\n",
       "      <th></th>\n",
       "      <th>Order Number</th>\n",
       "      <th>Date Time</th>\n",
       "      <th>Restaurant</th>\n",
       "      <th>Cuisine</th>\n",
       "      <th>Items</th>\n",
       "      <th>Cost</th>\n",
       "    </tr>\n",
       "  </thead>\n",
       "  <tbody>\n",
       "    <tr>\n",
       "      <th>0</th>\n",
       "      <td>False</td>\n",
       "      <td>False</td>\n",
       "      <td>False</td>\n",
       "      <td>False</td>\n",
       "      <td>False</td>\n",
       "      <td>False</td>\n",
       "    </tr>\n",
       "    <tr>\n",
       "      <th>1</th>\n",
       "      <td>False</td>\n",
       "      <td>False</td>\n",
       "      <td>False</td>\n",
       "      <td>False</td>\n",
       "      <td>False</td>\n",
       "      <td>False</td>\n",
       "    </tr>\n",
       "    <tr>\n",
       "      <th>2</th>\n",
       "      <td>False</td>\n",
       "      <td>False</td>\n",
       "      <td>False</td>\n",
       "      <td>False</td>\n",
       "      <td>False</td>\n",
       "      <td>False</td>\n",
       "    </tr>\n",
       "    <tr>\n",
       "      <th>3</th>\n",
       "      <td>False</td>\n",
       "      <td>False</td>\n",
       "      <td>False</td>\n",
       "      <td>False</td>\n",
       "      <td>False</td>\n",
       "      <td>False</td>\n",
       "    </tr>\n",
       "    <tr>\n",
       "      <th>4</th>\n",
       "      <td>False</td>\n",
       "      <td>False</td>\n",
       "      <td>False</td>\n",
       "      <td>False</td>\n",
       "      <td>False</td>\n",
       "      <td>False</td>\n",
       "    </tr>\n",
       "    <tr>\n",
       "      <th>...</th>\n",
       "      <td>...</td>\n",
       "      <td>...</td>\n",
       "      <td>...</td>\n",
       "      <td>...</td>\n",
       "      <td>...</td>\n",
       "      <td>...</td>\n",
       "    </tr>\n",
       "    <tr>\n",
       "      <th>163</th>\n",
       "      <td>False</td>\n",
       "      <td>False</td>\n",
       "      <td>False</td>\n",
       "      <td>False</td>\n",
       "      <td>False</td>\n",
       "      <td>False</td>\n",
       "    </tr>\n",
       "    <tr>\n",
       "      <th>164</th>\n",
       "      <td>False</td>\n",
       "      <td>False</td>\n",
       "      <td>False</td>\n",
       "      <td>False</td>\n",
       "      <td>False</td>\n",
       "      <td>False</td>\n",
       "    </tr>\n",
       "    <tr>\n",
       "      <th>165</th>\n",
       "      <td>False</td>\n",
       "      <td>False</td>\n",
       "      <td>False</td>\n",
       "      <td>False</td>\n",
       "      <td>False</td>\n",
       "      <td>False</td>\n",
       "    </tr>\n",
       "    <tr>\n",
       "      <th>166</th>\n",
       "      <td>False</td>\n",
       "      <td>False</td>\n",
       "      <td>False</td>\n",
       "      <td>False</td>\n",
       "      <td>False</td>\n",
       "      <td>False</td>\n",
       "    </tr>\n",
       "    <tr>\n",
       "      <th>167</th>\n",
       "      <td>True</td>\n",
       "      <td>True</td>\n",
       "      <td>True</td>\n",
       "      <td>True</td>\n",
       "      <td>True</td>\n",
       "      <td>True</td>\n",
       "    </tr>\n",
       "  </tbody>\n",
       "</table>\n",
       "<p>168 rows × 6 columns</p>\n",
       "</div>"
      ],
      "text/plain": [
       "     Order Number  Date Time  Restaurant  Cuisine  Items   Cost\n",
       "0           False      False       False    False  False  False\n",
       "1           False      False       False    False  False  False\n",
       "2           False      False       False    False  False  False\n",
       "3           False      False       False    False  False  False\n",
       "4           False      False       False    False  False  False\n",
       "..            ...        ...         ...      ...    ...    ...\n",
       "163         False      False       False    False  False  False\n",
       "164         False      False       False    False  False  False\n",
       "165         False      False       False    False  False  False\n",
       "166         False      False       False    False  False  False\n",
       "167          True       True        True     True   True   True\n",
       "\n",
       "[168 rows x 6 columns]"
      ]
     },
     "execution_count": 9,
     "metadata": {},
     "output_type": "execute_result"
    }
   ],
   "source": [
    "# double checking total null values across all columns\n",
    "dd.isna()"
   ]
  },
  {
   "cell_type": "code",
   "execution_count": 10,
   "metadata": {},
   "outputs": [
    {
     "data": {
      "text/html": [
       "<div>\n",
       "<style scoped>\n",
       "    .dataframe tbody tr th:only-of-type {\n",
       "        vertical-align: middle;\n",
       "    }\n",
       "\n",
       "    .dataframe tbody tr th {\n",
       "        vertical-align: top;\n",
       "    }\n",
       "\n",
       "    .dataframe thead th {\n",
       "        text-align: right;\n",
       "    }\n",
       "</style>\n",
       "<table border=\"1\" class=\"dataframe\">\n",
       "  <thead>\n",
       "    <tr style=\"text-align: right;\">\n",
       "      <th></th>\n",
       "      <th>Order Number</th>\n",
       "      <th>Date Time</th>\n",
       "      <th>Restaurant</th>\n",
       "      <th>Cuisine</th>\n",
       "      <th>Items</th>\n",
       "      <th>Cost</th>\n",
       "    </tr>\n",
       "  </thead>\n",
       "  <tbody>\n",
       "    <tr>\n",
       "      <th>0</th>\n",
       "      <td>167.0</td>\n",
       "      <td>2020-10-16 14:41:00</td>\n",
       "      <td>Sycamore Grill</td>\n",
       "      <td>American</td>\n",
       "      <td>2.0</td>\n",
       "      <td>30.71</td>\n",
       "    </tr>\n",
       "    <tr>\n",
       "      <th>1</th>\n",
       "      <td>166.0</td>\n",
       "      <td>2020-10-15 14:47:00</td>\n",
       "      <td>Moish &amp; Itzy's Deli</td>\n",
       "      <td>Diner</td>\n",
       "      <td>4.0</td>\n",
       "      <td>50.03</td>\n",
       "    </tr>\n",
       "    <tr>\n",
       "      <th>2</th>\n",
       "      <td>165.0</td>\n",
       "      <td>2020-10-14 20:03:00</td>\n",
       "      <td>La Stalla</td>\n",
       "      <td>Italian</td>\n",
       "      <td>2.0</td>\n",
       "      <td>47.41</td>\n",
       "    </tr>\n",
       "    <tr>\n",
       "      <th>3</th>\n",
       "      <td>164.0</td>\n",
       "      <td>2020-10-10 14:20:00</td>\n",
       "      <td>Lovebird</td>\n",
       "      <td>Chicken</td>\n",
       "      <td>3.0</td>\n",
       "      <td>27.93</td>\n",
       "    </tr>\n",
       "    <tr>\n",
       "      <th>4</th>\n",
       "      <td>163.0</td>\n",
       "      <td>2020-10-08 13:02:00</td>\n",
       "      <td>Burritos</td>\n",
       "      <td>Mexican</td>\n",
       "      <td>2.0</td>\n",
       "      <td>24.15</td>\n",
       "    </tr>\n",
       "    <tr>\n",
       "      <th>...</th>\n",
       "      <td>...</td>\n",
       "      <td>...</td>\n",
       "      <td>...</td>\n",
       "      <td>...</td>\n",
       "      <td>...</td>\n",
       "      <td>...</td>\n",
       "    </tr>\n",
       "    <tr>\n",
       "      <th>162</th>\n",
       "      <td>5.0</td>\n",
       "      <td>2019-02-28 19:38:00</td>\n",
       "      <td>59 Almshouse</td>\n",
       "      <td>American</td>\n",
       "      <td>3.0</td>\n",
       "      <td>48.52</td>\n",
       "    </tr>\n",
       "    <tr>\n",
       "      <th>163</th>\n",
       "      <td>4.0</td>\n",
       "      <td>2019-01-19 16:26:00</td>\n",
       "      <td>Sycamore Grill</td>\n",
       "      <td>American</td>\n",
       "      <td>2.0</td>\n",
       "      <td>33.01</td>\n",
       "    </tr>\n",
       "    <tr>\n",
       "      <th>164</th>\n",
       "      <td>3.0</td>\n",
       "      <td>2019-01-09 20:10:00</td>\n",
       "      <td>Friends Bar &amp; Grille</td>\n",
       "      <td>Tavern</td>\n",
       "      <td>2.0</td>\n",
       "      <td>44.25</td>\n",
       "    </tr>\n",
       "    <tr>\n",
       "      <th>165</th>\n",
       "      <td>2.0</td>\n",
       "      <td>2019-01-05 19:28:00</td>\n",
       "      <td>De Lorenzo's Tomato Pies</td>\n",
       "      <td>Pizza</td>\n",
       "      <td>1.0</td>\n",
       "      <td>41.01</td>\n",
       "    </tr>\n",
       "    <tr>\n",
       "      <th>166</th>\n",
       "      <td>1.0</td>\n",
       "      <td>2018-12-23 18:42:00</td>\n",
       "      <td>De Lorenzo's Tomato Pies</td>\n",
       "      <td>Pizza</td>\n",
       "      <td>1.0</td>\n",
       "      <td>29.88</td>\n",
       "    </tr>\n",
       "  </tbody>\n",
       "</table>\n",
       "<p>167 rows × 6 columns</p>\n",
       "</div>"
      ],
      "text/plain": [
       "     Order Number           Date Time                Restaurant   Cuisine  \\\n",
       "0           167.0 2020-10-16 14:41:00            Sycamore Grill  American   \n",
       "1           166.0 2020-10-15 14:47:00       Moish & Itzy's Deli     Diner   \n",
       "2           165.0 2020-10-14 20:03:00                 La Stalla   Italian   \n",
       "3           164.0 2020-10-10 14:20:00                  Lovebird   Chicken   \n",
       "4           163.0 2020-10-08 13:02:00                  Burritos   Mexican   \n",
       "..            ...                 ...                       ...       ...   \n",
       "162           5.0 2019-02-28 19:38:00              59 Almshouse  American   \n",
       "163           4.0 2019-01-19 16:26:00            Sycamore Grill  American   \n",
       "164           3.0 2019-01-09 20:10:00      Friends Bar & Grille    Tavern   \n",
       "165           2.0 2019-01-05 19:28:00  De Lorenzo's Tomato Pies     Pizza   \n",
       "166           1.0 2018-12-23 18:42:00  De Lorenzo's Tomato Pies     Pizza   \n",
       "\n",
       "     Items   Cost  \n",
       "0      2.0  30.71  \n",
       "1      4.0  50.03  \n",
       "2      2.0  47.41  \n",
       "3      3.0  27.93  \n",
       "4      2.0  24.15  \n",
       "..     ...    ...  \n",
       "162    3.0  48.52  \n",
       "163    2.0  33.01  \n",
       "164    2.0  44.25  \n",
       "165    1.0  41.01  \n",
       "166    1.0  29.88  \n",
       "\n",
       "[167 rows x 6 columns]"
      ]
     },
     "execution_count": 10,
     "metadata": {},
     "output_type": "execute_result"
    }
   ],
   "source": [
    "# removing row 167 to eliminate any null / na values\n",
    "\n",
    "dd = dd.drop(167, axis=0)\n",
    "dd"
   ]
  },
  {
   "cell_type": "markdown",
   "metadata": {},
   "source": [
    "INSERT ANALYSIS HERE - individual column examinations, explain plans to add any additional columns "
   ]
  },
  {
   "cell_type": "code",
   "execution_count": 11,
   "metadata": {},
   "outputs": [
    {
     "data": {
      "text/plain": [
       "0      2.0\n",
       "1      4.0\n",
       "2      2.0\n",
       "3      3.0\n",
       "4      2.0\n",
       "      ... \n",
       "162    3.0\n",
       "163    2.0\n",
       "164    2.0\n",
       "165    1.0\n",
       "166    1.0\n",
       "Name: Items, Length: 167, dtype: float64"
      ]
     },
     "execution_count": 11,
     "metadata": {},
     "output_type": "execute_result"
    }
   ],
   "source": [
    "# examining the numerical columns Items and Cost\n",
    "dd['Items']"
   ]
  },
  {
   "cell_type": "code",
   "execution_count": 12,
   "metadata": {},
   "outputs": [
    {
     "data": {
      "text/plain": [
       "0      30.71\n",
       "1      50.03\n",
       "2      47.41\n",
       "3      27.93\n",
       "4      24.15\n",
       "       ...  \n",
       "162    48.52\n",
       "163    33.01\n",
       "164    44.25\n",
       "165    41.01\n",
       "166    29.88\n",
       "Name: Cost, Length: 167, dtype: float64"
      ]
     },
     "execution_count": 12,
     "metadata": {},
     "output_type": "execute_result"
    }
   ],
   "source": [
    "dd['Cost']"
   ]
  },
  {
   "cell_type": "code",
   "execution_count": 13,
   "metadata": {
    "scrolled": true
   },
   "outputs": [
    {
     "data": {
      "text/plain": [
       "0      15.355000\n",
       "1      12.507500\n",
       "2      23.705000\n",
       "3       9.310000\n",
       "4      12.075000\n",
       "         ...    \n",
       "162    16.173333\n",
       "163    16.505000\n",
       "164    22.125000\n",
       "165    41.010000\n",
       "166    29.880000\n",
       "Name: CPI, Length: 167, dtype: float64"
      ]
     },
     "execution_count": 13,
     "metadata": {},
     "output_type": "execute_result"
    }
   ],
   "source": [
    "# adding a column for avg cost per item for each order (total cost / item number)\n",
    "\n",
    "dd['CPI'] = dd['Cost'] / dd['Items']\n",
    "dd['CPI']"
   ]
  },
  {
   "cell_type": "code",
   "execution_count": 14,
   "metadata": {},
   "outputs": [
    {
     "data": {
      "text/plain": [
       "0      15.36\n",
       "1      12.51\n",
       "2      23.70\n",
       "3       9.31\n",
       "4      12.08\n",
       "       ...  \n",
       "162    16.17\n",
       "163    16.50\n",
       "164    22.12\n",
       "165    41.01\n",
       "166    29.88\n",
       "Name: CPI, Length: 167, dtype: float64"
      ]
     },
     "execution_count": 14,
     "metadata": {},
     "output_type": "execute_result"
    }
   ],
   "source": [
    "# examining the CPI column, we only need two decimals so we need to round to\n",
    "# nearest penny\n",
    "\n",
    "dd['CPI'] = dd['CPI'].round(decimals= 2)\n",
    "dd['CPI']"
   ]
  },
  {
   "cell_type": "code",
   "execution_count": 15,
   "metadata": {},
   "outputs": [
    {
     "data": {
      "text/plain": [
       "count                                167\n",
       "unique                                47\n",
       "top       Mt Fuji Hibachi & Asian Bistro\n",
       "freq                                  19\n",
       "Name: Restaurant, dtype: object"
      ]
     },
     "execution_count": 15,
     "metadata": {},
     "output_type": "execute_result"
    }
   ],
   "source": [
    "# examining the Restaurant column\n",
    "\n",
    "dd['Restaurant'].describe()"
   ]
  },
  {
   "cell_type": "code",
   "execution_count": 16,
   "metadata": {},
   "outputs": [
    {
     "data": {
      "text/plain": [
       "count          167\n",
       "unique          20\n",
       "top       Japanese\n",
       "freq            37\n",
       "Name: Cuisine, dtype: object"
      ]
     },
     "execution_count": 16,
     "metadata": {},
     "output_type": "execute_result"
    }
   ],
   "source": [
    "# examining the Cuisine column\n",
    "\n",
    "dd['Cuisine'].describe()"
   ]
  },
  {
   "cell_type": "markdown",
   "metadata": {},
   "source": [
    "INSERT ANALYSIS HERE - it looks like there are 47 unique restaurants, totalling 20 different types of cuisine that I've ordered from through DD. The most ordered from restaurant is Mt Fuji (not surprising to me!), a local sushi joint, on 19 separate occasions. Of the 167 orders, I've ordered Japanese 37 times which == 22% of all orders."
   ]
  },
  {
   "cell_type": "code",
   "execution_count": 17,
   "metadata": {
    "scrolled": true
   },
   "outputs": [
    {
     "data": {
      "text/html": [
       "<div>\n",
       "<style scoped>\n",
       "    .dataframe tbody tr th:only-of-type {\n",
       "        vertical-align: middle;\n",
       "    }\n",
       "\n",
       "    .dataframe tbody tr th {\n",
       "        vertical-align: top;\n",
       "    }\n",
       "\n",
       "    .dataframe thead th {\n",
       "        text-align: right;\n",
       "    }\n",
       "</style>\n",
       "<table border=\"1\" class=\"dataframe\">\n",
       "  <thead>\n",
       "    <tr style=\"text-align: right;\">\n",
       "      <th></th>\n",
       "      <th>Date Time</th>\n",
       "      <th>Restaurant</th>\n",
       "      <th>Cuisine</th>\n",
       "      <th>Items</th>\n",
       "      <th>Cost</th>\n",
       "      <th>CPI</th>\n",
       "    </tr>\n",
       "  </thead>\n",
       "  <tbody>\n",
       "    <tr>\n",
       "      <th>0</th>\n",
       "      <td>2020-10-16 14:41:00</td>\n",
       "      <td>Sycamore Grill</td>\n",
       "      <td>American</td>\n",
       "      <td>2.0</td>\n",
       "      <td>30.71</td>\n",
       "      <td>15.36</td>\n",
       "    </tr>\n",
       "    <tr>\n",
       "      <th>1</th>\n",
       "      <td>2020-10-15 14:47:00</td>\n",
       "      <td>Moish &amp; Itzy's Deli</td>\n",
       "      <td>Diner</td>\n",
       "      <td>4.0</td>\n",
       "      <td>50.03</td>\n",
       "      <td>12.51</td>\n",
       "    </tr>\n",
       "    <tr>\n",
       "      <th>2</th>\n",
       "      <td>2020-10-14 20:03:00</td>\n",
       "      <td>La Stalla</td>\n",
       "      <td>Italian</td>\n",
       "      <td>2.0</td>\n",
       "      <td>47.41</td>\n",
       "      <td>23.70</td>\n",
       "    </tr>\n",
       "    <tr>\n",
       "      <th>3</th>\n",
       "      <td>2020-10-10 14:20:00</td>\n",
       "      <td>Lovebird</td>\n",
       "      <td>Chicken</td>\n",
       "      <td>3.0</td>\n",
       "      <td>27.93</td>\n",
       "      <td>9.31</td>\n",
       "    </tr>\n",
       "    <tr>\n",
       "      <th>4</th>\n",
       "      <td>2020-10-08 13:02:00</td>\n",
       "      <td>Burritos</td>\n",
       "      <td>Mexican</td>\n",
       "      <td>2.0</td>\n",
       "      <td>24.15</td>\n",
       "      <td>12.08</td>\n",
       "    </tr>\n",
       "    <tr>\n",
       "      <th>...</th>\n",
       "      <td>...</td>\n",
       "      <td>...</td>\n",
       "      <td>...</td>\n",
       "      <td>...</td>\n",
       "      <td>...</td>\n",
       "      <td>...</td>\n",
       "    </tr>\n",
       "    <tr>\n",
       "      <th>162</th>\n",
       "      <td>2019-02-28 19:38:00</td>\n",
       "      <td>59 Almshouse</td>\n",
       "      <td>American</td>\n",
       "      <td>3.0</td>\n",
       "      <td>48.52</td>\n",
       "      <td>16.17</td>\n",
       "    </tr>\n",
       "    <tr>\n",
       "      <th>163</th>\n",
       "      <td>2019-01-19 16:26:00</td>\n",
       "      <td>Sycamore Grill</td>\n",
       "      <td>American</td>\n",
       "      <td>2.0</td>\n",
       "      <td>33.01</td>\n",
       "      <td>16.50</td>\n",
       "    </tr>\n",
       "    <tr>\n",
       "      <th>164</th>\n",
       "      <td>2019-01-09 20:10:00</td>\n",
       "      <td>Friends Bar &amp; Grille</td>\n",
       "      <td>Tavern</td>\n",
       "      <td>2.0</td>\n",
       "      <td>44.25</td>\n",
       "      <td>22.12</td>\n",
       "    </tr>\n",
       "    <tr>\n",
       "      <th>165</th>\n",
       "      <td>2019-01-05 19:28:00</td>\n",
       "      <td>De Lorenzo's Tomato Pies</td>\n",
       "      <td>Pizza</td>\n",
       "      <td>1.0</td>\n",
       "      <td>41.01</td>\n",
       "      <td>41.01</td>\n",
       "    </tr>\n",
       "    <tr>\n",
       "      <th>166</th>\n",
       "      <td>2018-12-23 18:42:00</td>\n",
       "      <td>De Lorenzo's Tomato Pies</td>\n",
       "      <td>Pizza</td>\n",
       "      <td>1.0</td>\n",
       "      <td>29.88</td>\n",
       "      <td>29.88</td>\n",
       "    </tr>\n",
       "  </tbody>\n",
       "</table>\n",
       "<p>167 rows × 6 columns</p>\n",
       "</div>"
      ],
      "text/plain": [
       "              Date Time                Restaurant   Cuisine  Items   Cost  \\\n",
       "0   2020-10-16 14:41:00            Sycamore Grill  American    2.0  30.71   \n",
       "1   2020-10-15 14:47:00       Moish & Itzy's Deli     Diner    4.0  50.03   \n",
       "2   2020-10-14 20:03:00                 La Stalla   Italian    2.0  47.41   \n",
       "3   2020-10-10 14:20:00                  Lovebird   Chicken    3.0  27.93   \n",
       "4   2020-10-08 13:02:00                  Burritos   Mexican    2.0  24.15   \n",
       "..                  ...                       ...       ...    ...    ...   \n",
       "162 2019-02-28 19:38:00              59 Almshouse  American    3.0  48.52   \n",
       "163 2019-01-19 16:26:00            Sycamore Grill  American    2.0  33.01   \n",
       "164 2019-01-09 20:10:00      Friends Bar & Grille    Tavern    2.0  44.25   \n",
       "165 2019-01-05 19:28:00  De Lorenzo's Tomato Pies     Pizza    1.0  41.01   \n",
       "166 2018-12-23 18:42:00  De Lorenzo's Tomato Pies     Pizza    1.0  29.88   \n",
       "\n",
       "       CPI  \n",
       "0    15.36  \n",
       "1    12.51  \n",
       "2    23.70  \n",
       "3     9.31  \n",
       "4    12.08  \n",
       "..     ...  \n",
       "162  16.17  \n",
       "163  16.50  \n",
       "164  22.12  \n",
       "165  41.01  \n",
       "166  29.88  \n",
       "\n",
       "[167 rows x 6 columns]"
      ]
     },
     "execution_count": 17,
     "metadata": {},
     "output_type": "execute_result"
    }
   ],
   "source": [
    "# We should probably eliminate the order number column since there is no significant\n",
    "# value in having this column in our table. If we ever need a locator, we can identify\n",
    "# with a date / time. We will also rename our columns for optimal code quality\n",
    "\n",
    "dd = dd.drop(columns = 'Order Number')\n",
    "dd"
   ]
  },
  {
   "cell_type": "code",
   "execution_count": 18,
   "metadata": {},
   "outputs": [
    {
     "data": {
      "text/plain": [
       "Index(['date_time', 'restaurant', 'cuisine', 'items', 'cost', 'cpi'], dtype='object')"
      ]
     },
     "execution_count": 18,
     "metadata": {},
     "output_type": "execute_result"
    }
   ],
   "source": [
    "# reformatting all columns to snake_case\n",
    "\n",
    "dd.columns = dd.columns.str.lower()\n",
    "dd.columns = dd.columns.str.replace(' ', '_')\n",
    "dd.columns"
   ]
  },
  {
   "cell_type": "code",
   "execution_count": 19,
   "metadata": {},
   "outputs": [
    {
     "data": {
      "text/html": [
       "<div>\n",
       "<style scoped>\n",
       "    .dataframe tbody tr th:only-of-type {\n",
       "        vertical-align: middle;\n",
       "    }\n",
       "\n",
       "    .dataframe tbody tr th {\n",
       "        vertical-align: top;\n",
       "    }\n",
       "\n",
       "    .dataframe thead th {\n",
       "        text-align: right;\n",
       "    }\n",
       "</style>\n",
       "<table border=\"1\" class=\"dataframe\">\n",
       "  <thead>\n",
       "    <tr style=\"text-align: right;\">\n",
       "      <th></th>\n",
       "      <th>date_time</th>\n",
       "      <th>restaurant</th>\n",
       "      <th>cuisine</th>\n",
       "      <th>items</th>\n",
       "      <th>cost</th>\n",
       "      <th>cpi</th>\n",
       "      <th>day</th>\n",
       "    </tr>\n",
       "  </thead>\n",
       "  <tbody>\n",
       "    <tr>\n",
       "      <th>0</th>\n",
       "      <td>2020-10-16 14:41:00</td>\n",
       "      <td>Sycamore Grill</td>\n",
       "      <td>American</td>\n",
       "      <td>2.0</td>\n",
       "      <td>30.71</td>\n",
       "      <td>15.36</td>\n",
       "      <td>Friday</td>\n",
       "    </tr>\n",
       "    <tr>\n",
       "      <th>1</th>\n",
       "      <td>2020-10-15 14:47:00</td>\n",
       "      <td>Moish &amp; Itzy's Deli</td>\n",
       "      <td>Diner</td>\n",
       "      <td>4.0</td>\n",
       "      <td>50.03</td>\n",
       "      <td>12.51</td>\n",
       "      <td>Thursday</td>\n",
       "    </tr>\n",
       "    <tr>\n",
       "      <th>2</th>\n",
       "      <td>2020-10-14 20:03:00</td>\n",
       "      <td>La Stalla</td>\n",
       "      <td>Italian</td>\n",
       "      <td>2.0</td>\n",
       "      <td>47.41</td>\n",
       "      <td>23.70</td>\n",
       "      <td>Wednesday</td>\n",
       "    </tr>\n",
       "    <tr>\n",
       "      <th>3</th>\n",
       "      <td>2020-10-10 14:20:00</td>\n",
       "      <td>Lovebird</td>\n",
       "      <td>Chicken</td>\n",
       "      <td>3.0</td>\n",
       "      <td>27.93</td>\n",
       "      <td>9.31</td>\n",
       "      <td>Saturday</td>\n",
       "    </tr>\n",
       "    <tr>\n",
       "      <th>4</th>\n",
       "      <td>2020-10-08 13:02:00</td>\n",
       "      <td>Burritos</td>\n",
       "      <td>Mexican</td>\n",
       "      <td>2.0</td>\n",
       "      <td>24.15</td>\n",
       "      <td>12.08</td>\n",
       "      <td>Thursday</td>\n",
       "    </tr>\n",
       "    <tr>\n",
       "      <th>...</th>\n",
       "      <td>...</td>\n",
       "      <td>...</td>\n",
       "      <td>...</td>\n",
       "      <td>...</td>\n",
       "      <td>...</td>\n",
       "      <td>...</td>\n",
       "      <td>...</td>\n",
       "    </tr>\n",
       "    <tr>\n",
       "      <th>162</th>\n",
       "      <td>2019-02-28 19:38:00</td>\n",
       "      <td>59 Almshouse</td>\n",
       "      <td>American</td>\n",
       "      <td>3.0</td>\n",
       "      <td>48.52</td>\n",
       "      <td>16.17</td>\n",
       "      <td>Thursday</td>\n",
       "    </tr>\n",
       "    <tr>\n",
       "      <th>163</th>\n",
       "      <td>2019-01-19 16:26:00</td>\n",
       "      <td>Sycamore Grill</td>\n",
       "      <td>American</td>\n",
       "      <td>2.0</td>\n",
       "      <td>33.01</td>\n",
       "      <td>16.50</td>\n",
       "      <td>Saturday</td>\n",
       "    </tr>\n",
       "    <tr>\n",
       "      <th>164</th>\n",
       "      <td>2019-01-09 20:10:00</td>\n",
       "      <td>Friends Bar &amp; Grille</td>\n",
       "      <td>Tavern</td>\n",
       "      <td>2.0</td>\n",
       "      <td>44.25</td>\n",
       "      <td>22.12</td>\n",
       "      <td>Wednesday</td>\n",
       "    </tr>\n",
       "    <tr>\n",
       "      <th>165</th>\n",
       "      <td>2019-01-05 19:28:00</td>\n",
       "      <td>De Lorenzo's Tomato Pies</td>\n",
       "      <td>Pizza</td>\n",
       "      <td>1.0</td>\n",
       "      <td>41.01</td>\n",
       "      <td>41.01</td>\n",
       "      <td>Saturday</td>\n",
       "    </tr>\n",
       "    <tr>\n",
       "      <th>166</th>\n",
       "      <td>2018-12-23 18:42:00</td>\n",
       "      <td>De Lorenzo's Tomato Pies</td>\n",
       "      <td>Pizza</td>\n",
       "      <td>1.0</td>\n",
       "      <td>29.88</td>\n",
       "      <td>29.88</td>\n",
       "      <td>Sunday</td>\n",
       "    </tr>\n",
       "  </tbody>\n",
       "</table>\n",
       "<p>167 rows × 7 columns</p>\n",
       "</div>"
      ],
      "text/plain": [
       "              date_time                restaurant   cuisine  items   cost  \\\n",
       "0   2020-10-16 14:41:00            Sycamore Grill  American    2.0  30.71   \n",
       "1   2020-10-15 14:47:00       Moish & Itzy's Deli     Diner    4.0  50.03   \n",
       "2   2020-10-14 20:03:00                 La Stalla   Italian    2.0  47.41   \n",
       "3   2020-10-10 14:20:00                  Lovebird   Chicken    3.0  27.93   \n",
       "4   2020-10-08 13:02:00                  Burritos   Mexican    2.0  24.15   \n",
       "..                  ...                       ...       ...    ...    ...   \n",
       "162 2019-02-28 19:38:00              59 Almshouse  American    3.0  48.52   \n",
       "163 2019-01-19 16:26:00            Sycamore Grill  American    2.0  33.01   \n",
       "164 2019-01-09 20:10:00      Friends Bar & Grille    Tavern    2.0  44.25   \n",
       "165 2019-01-05 19:28:00  De Lorenzo's Tomato Pies     Pizza    1.0  41.01   \n",
       "166 2018-12-23 18:42:00  De Lorenzo's Tomato Pies     Pizza    1.0  29.88   \n",
       "\n",
       "       cpi        day  \n",
       "0    15.36     Friday  \n",
       "1    12.51   Thursday  \n",
       "2    23.70  Wednesday  \n",
       "3     9.31   Saturday  \n",
       "4    12.08   Thursday  \n",
       "..     ...        ...  \n",
       "162  16.17   Thursday  \n",
       "163  16.50   Saturday  \n",
       "164  22.12  Wednesday  \n",
       "165  41.01   Saturday  \n",
       "166  29.88     Sunday  \n",
       "\n",
       "[167 rows x 7 columns]"
      ]
     },
     "execution_count": 19,
     "metadata": {},
     "output_type": "execute_result"
    }
   ],
   "source": [
    "# adding a day name column to the dataframe\n",
    "\n",
    "dd['day'] = dd['date_time'].dt.day_name()\n",
    "dd"
   ]
  },
  {
   "cell_type": "code",
   "execution_count": 20,
   "metadata": {},
   "outputs": [
    {
     "data": {
      "text/html": [
       "<div>\n",
       "<style scoped>\n",
       "    .dataframe tbody tr th:only-of-type {\n",
       "        vertical-align: middle;\n",
       "    }\n",
       "\n",
       "    .dataframe tbody tr th {\n",
       "        vertical-align: top;\n",
       "    }\n",
       "\n",
       "    .dataframe thead th {\n",
       "        text-align: right;\n",
       "    }\n",
       "</style>\n",
       "<table border=\"1\" class=\"dataframe\">\n",
       "  <thead>\n",
       "    <tr style=\"text-align: right;\">\n",
       "      <th></th>\n",
       "      <th>date_time</th>\n",
       "      <th>day</th>\n",
       "      <th>restaurant</th>\n",
       "      <th>cuisine</th>\n",
       "      <th>items</th>\n",
       "      <th>cost</th>\n",
       "      <th>cpi</th>\n",
       "    </tr>\n",
       "  </thead>\n",
       "  <tbody>\n",
       "    <tr>\n",
       "      <th>0</th>\n",
       "      <td>2020-10-16 14:41:00</td>\n",
       "      <td>Friday</td>\n",
       "      <td>Sycamore Grill</td>\n",
       "      <td>American</td>\n",
       "      <td>2.0</td>\n",
       "      <td>30.71</td>\n",
       "      <td>15.36</td>\n",
       "    </tr>\n",
       "    <tr>\n",
       "      <th>1</th>\n",
       "      <td>2020-10-15 14:47:00</td>\n",
       "      <td>Thursday</td>\n",
       "      <td>Moish &amp; Itzy's Deli</td>\n",
       "      <td>Diner</td>\n",
       "      <td>4.0</td>\n",
       "      <td>50.03</td>\n",
       "      <td>12.51</td>\n",
       "    </tr>\n",
       "    <tr>\n",
       "      <th>2</th>\n",
       "      <td>2020-10-14 20:03:00</td>\n",
       "      <td>Wednesday</td>\n",
       "      <td>La Stalla</td>\n",
       "      <td>Italian</td>\n",
       "      <td>2.0</td>\n",
       "      <td>47.41</td>\n",
       "      <td>23.70</td>\n",
       "    </tr>\n",
       "    <tr>\n",
       "      <th>3</th>\n",
       "      <td>2020-10-10 14:20:00</td>\n",
       "      <td>Saturday</td>\n",
       "      <td>Lovebird</td>\n",
       "      <td>Chicken</td>\n",
       "      <td>3.0</td>\n",
       "      <td>27.93</td>\n",
       "      <td>9.31</td>\n",
       "    </tr>\n",
       "    <tr>\n",
       "      <th>4</th>\n",
       "      <td>2020-10-08 13:02:00</td>\n",
       "      <td>Thursday</td>\n",
       "      <td>Burritos</td>\n",
       "      <td>Mexican</td>\n",
       "      <td>2.0</td>\n",
       "      <td>24.15</td>\n",
       "      <td>12.08</td>\n",
       "    </tr>\n",
       "  </tbody>\n",
       "</table>\n",
       "</div>"
      ],
      "text/plain": [
       "            date_time        day           restaurant   cuisine  items   cost  \\\n",
       "0 2020-10-16 14:41:00     Friday       Sycamore Grill  American    2.0  30.71   \n",
       "1 2020-10-15 14:47:00   Thursday  Moish & Itzy's Deli     Diner    4.0  50.03   \n",
       "2 2020-10-14 20:03:00  Wednesday            La Stalla   Italian    2.0  47.41   \n",
       "3 2020-10-10 14:20:00   Saturday             Lovebird   Chicken    3.0  27.93   \n",
       "4 2020-10-08 13:02:00   Thursday             Burritos   Mexican    2.0  24.15   \n",
       "\n",
       "     cpi  \n",
       "0  15.36  \n",
       "1  12.51  \n",
       "2  23.70  \n",
       "3   9.31  \n",
       "4  12.08  "
      ]
     },
     "execution_count": 20,
     "metadata": {},
     "output_type": "execute_result"
    }
   ],
   "source": [
    "# moving the Day column to the front of our dataframe\n",
    "\n",
    "new_col = 'day'\n",
    "day = dd.pop('day')\n",
    "dd.insert(1, new_col, day)\n",
    "dd.head()"
   ]
  },
  {
   "cell_type": "markdown",
   "metadata": {},
   "source": [
    "INSERT ANALYSIS HERE - finalized the data cleaning, any potential observations from data so far, where to go next"
   ]
  },
  {
   "cell_type": "code",
   "execution_count": 21,
   "metadata": {},
   "outputs": [
    {
     "data": {
      "text/plain": [
       "Mt Fuji Hibachi & Asian Bistro    19\n",
       "La Stalla                         15\n",
       "Osaka Sushi Japanese              14\n",
       "De Lorenzo's Tomato Pies          13\n",
       "Piccolo Trattoria                 12\n",
       "Burritos                          12\n",
       "Canal Street Grille                9\n",
       "The Turning Point                  8\n",
       "Moish & Itzy's Deli                7\n",
       "Villa Rosa Italian Restaurant      4\n",
       "Name: restaurant, dtype: int64"
      ]
     },
     "execution_count": 21,
     "metadata": {},
     "output_type": "execute_result"
    }
   ],
   "source": [
    "# looking at the top 10 restaurants ordered from\n",
    "\n",
    "top_rest = dd['restaurant'].value_counts()\n",
    "top_rest.head(10)"
   ]
  },
  {
   "cell_type": "code",
   "execution_count": 22,
   "metadata": {
    "scrolled": true
   },
   "outputs": [
    {
     "data": {
      "text/plain": [
       "Japanese    37\n",
       "Italian     35\n",
       "Diner       18\n",
       "Pizza       18\n",
       "Mexican     12\n",
       "American    11\n",
       "Greek       10\n",
       "Tavern       9\n",
       "Café         4\n",
       "Seafood      2\n",
       "Name: cuisine, dtype: int64"
      ]
     },
     "execution_count": 22,
     "metadata": {},
     "output_type": "execute_result"
    }
   ],
   "source": [
    "# looking at the top 10 cuisines ordered from\n",
    "\n",
    "top_cuisine = dd['cuisine'].value_counts()\n",
    "top_cuisine.head(10)"
   ]
  },
  {
   "cell_type": "markdown",
   "metadata": {},
   "source": [
    "INSERT ANALYSIS HERE - looking for any outliers, remove or not to remove? visualization charts/graphs are below with descriptions. build a story behind the ordering trends."
   ]
  },
  {
   "cell_type": "code",
   "execution_count": 59,
   "metadata": {
    "scrolled": true
   },
   "outputs": [
    {
     "name": "stdout",
     "output_type": "stream",
     "text": [
      "157\n",
      "167\n"
     ]
    }
   ],
   "source": [
    "# Curious to see if there are any days where I ordered more than once from DoorDash?\n",
    "\n",
    "dd['date'] = dd['date_time'].dt.date\n",
    "print(dd['date'].nunique())\n",
    "print(dd['date'].count())"
   ]
  },
  {
   "cell_type": "code",
   "execution_count": 81,
   "metadata": {},
   "outputs": [
    {
     "data": {
      "text/plain": [
       "[datetime.date(2020, 9, 11),\n",
       " datetime.date(2020, 9, 10),\n",
       " datetime.date(2020, 9, 5),\n",
       " datetime.date(2020, 8, 28),\n",
       " datetime.date(2020, 8, 5),\n",
       " datetime.date(2020, 6, 30),\n",
       " datetime.date(2020, 6, 22),\n",
       " datetime.date(2019, 12, 12),\n",
       " datetime.date(2019, 6, 17),\n",
       " datetime.date(2019, 4, 19)]"
      ]
     },
     "execution_count": 81,
     "metadata": {},
     "output_type": "execute_result"
    }
   ],
   "source": [
    "# examining the ten days where I ordered more than one time from DoorDash\n",
    "seen = {}\n",
    "dupes = []\n",
    "\n",
    "for x in dd['date']:\n",
    "    if x not in seen:\n",
    "        seen[x] = 1\n",
    "    else:\n",
    "        if seen[x] == 1:\n",
    "            dupes.append(x)\n",
    "        seen[x] += 1\n",
    "\n",
    "dupes\n",
    "\n",
    "# i literally ordered for lunch and dinner for two days straight! *slaps my own hand*"
   ]
  },
  {
   "cell_type": "code",
   "execution_count": 85,
   "metadata": {},
   "outputs": [
    {
     "data": {
      "text/html": [
       "<div>\n",
       "<style scoped>\n",
       "    .dataframe tbody tr th:only-of-type {\n",
       "        vertical-align: middle;\n",
       "    }\n",
       "\n",
       "    .dataframe tbody tr th {\n",
       "        vertical-align: top;\n",
       "    }\n",
       "\n",
       "    .dataframe thead th {\n",
       "        text-align: right;\n",
       "    }\n",
       "</style>\n",
       "<table border=\"1\" class=\"dataframe\">\n",
       "  <thead>\n",
       "    <tr style=\"text-align: right;\">\n",
       "      <th></th>\n",
       "      <th>date_time</th>\n",
       "      <th>day</th>\n",
       "      <th>restaurant</th>\n",
       "      <th>cuisine</th>\n",
       "      <th>items</th>\n",
       "      <th>cost</th>\n",
       "      <th>cpi</th>\n",
       "      <th>date</th>\n",
       "      <th>time</th>\n",
       "    </tr>\n",
       "  </thead>\n",
       "  <tbody>\n",
       "    <tr>\n",
       "      <th>0</th>\n",
       "      <td>2020-10-16 14:41:00</td>\n",
       "      <td>Friday</td>\n",
       "      <td>Sycamore Grill</td>\n",
       "      <td>American</td>\n",
       "      <td>2.0</td>\n",
       "      <td>30.71</td>\n",
       "      <td>15.36</td>\n",
       "      <td>2020-10-16</td>\n",
       "      <td>14:41</td>\n",
       "    </tr>\n",
       "    <tr>\n",
       "      <th>1</th>\n",
       "      <td>2020-10-15 14:47:00</td>\n",
       "      <td>Thursday</td>\n",
       "      <td>Moish &amp; Itzy's Deli</td>\n",
       "      <td>Diner</td>\n",
       "      <td>4.0</td>\n",
       "      <td>50.03</td>\n",
       "      <td>12.51</td>\n",
       "      <td>2020-10-15</td>\n",
       "      <td>14:47</td>\n",
       "    </tr>\n",
       "    <tr>\n",
       "      <th>2</th>\n",
       "      <td>2020-10-14 20:03:00</td>\n",
       "      <td>Wednesday</td>\n",
       "      <td>La Stalla</td>\n",
       "      <td>Italian</td>\n",
       "      <td>2.0</td>\n",
       "      <td>47.41</td>\n",
       "      <td>23.70</td>\n",
       "      <td>2020-10-14</td>\n",
       "      <td>20:03</td>\n",
       "    </tr>\n",
       "    <tr>\n",
       "      <th>3</th>\n",
       "      <td>2020-10-10 14:20:00</td>\n",
       "      <td>Saturday</td>\n",
       "      <td>Lovebird</td>\n",
       "      <td>Chicken</td>\n",
       "      <td>3.0</td>\n",
       "      <td>27.93</td>\n",
       "      <td>9.31</td>\n",
       "      <td>2020-10-10</td>\n",
       "      <td>14:20</td>\n",
       "    </tr>\n",
       "    <tr>\n",
       "      <th>4</th>\n",
       "      <td>2020-10-08 13:02:00</td>\n",
       "      <td>Thursday</td>\n",
       "      <td>Burritos</td>\n",
       "      <td>Mexican</td>\n",
       "      <td>2.0</td>\n",
       "      <td>24.15</td>\n",
       "      <td>12.08</td>\n",
       "      <td>2020-10-08</td>\n",
       "      <td>13:02</td>\n",
       "    </tr>\n",
       "  </tbody>\n",
       "</table>\n",
       "</div>"
      ],
      "text/plain": [
       "            date_time        day           restaurant   cuisine  items   cost  \\\n",
       "0 2020-10-16 14:41:00     Friday       Sycamore Grill  American    2.0  30.71   \n",
       "1 2020-10-15 14:47:00   Thursday  Moish & Itzy's Deli     Diner    4.0  50.03   \n",
       "2 2020-10-14 20:03:00  Wednesday            La Stalla   Italian    2.0  47.41   \n",
       "3 2020-10-10 14:20:00   Saturday             Lovebird   Chicken    3.0  27.93   \n",
       "4 2020-10-08 13:02:00   Thursday             Burritos   Mexican    2.0  24.15   \n",
       "\n",
       "     cpi        date   time  \n",
       "0  15.36  2020-10-16  14:41  \n",
       "1  12.51  2020-10-15  14:47  \n",
       "2  23.70  2020-10-14  20:03  \n",
       "3   9.31  2020-10-10  14:20  \n",
       "4  12.08  2020-10-08  13:02  "
      ]
     },
     "execution_count": 85,
     "metadata": {},
     "output_type": "execute_result"
    }
   ],
   "source": [
    "# On second thought lets re-add the separate 'date' and 'time' columns \n",
    "# to our dataframe for some further analysis & visualization\n",
    "\n",
    "dd['date'] = dd['date_time'].dt.date\n",
    "dd['time'] = dd['date_time'].dt.strftime('%H:%M')\n",
    "\n",
    "dd.head()\n",
    "\n",
    "# we can keep these at the end of the columns for now"
   ]
  },
  {
   "cell_type": "markdown",
   "metadata": {},
   "source": [
    "INSERT ANALYSIS HERE - next looking at visualization techniques to determine outliers, correlations, and further insights"
   ]
  },
  {
   "cell_type": "code",
   "execution_count": 112,
   "metadata": {},
   "outputs": [
    {
     "data": {
      "text/plain": [
       "<seaborn.axisgrid.FacetGrid at 0xf854a8>"
      ]
     },
     "execution_count": 112,
     "metadata": {},
     "output_type": "execute_result"
    },
    {
     "data": {
      "image/png": "[encoded data removed]",
      "text/plain": [
       "<Figure size 360x360 with 1 Axes>"
      ]
     },
     "metadata": {
      "needs_background": "light"
     },
     "output_type": "display_data"
    }
   ],
   "source": [
    "# Outlier Determination - Cost Outliers\n",
    "sns.displot(dd['cost'], bins=25)"
   ]
  },
  {
   "cell_type": "code",
   "execution_count": 111,
   "metadata": {},
   "outputs": [
    {
     "data": {
      "text/plain": [
       "<AxesSubplot:xlabel='cost', ylabel='Density'>"
      ]
     },
     "execution_count": 111,
     "metadata": {},
     "output_type": "execute_result"
    },
    {
     "data": {
      "image/png": "[encoded data removed]",
      "text/plain": [
       "<Figure size 432x288 with 1 Axes>"
      ]
     },
     "metadata": {
      "needs_background": "light"
     },
     "output_type": "display_data"
    }
   ],
   "source": [
    "# KDE Plot shows potential outliers when total cost per order above $100 \n",
    "sns.kdeplot(dd['cost'])"
   ]
  },
  {
   "cell_type": "code",
   "execution_count": 117,
   "metadata": {},
   "outputs": [
    {
     "data": {
      "text/plain": [
       "<seaborn.axisgrid.PairGrid at 0x292a2ac0>"
      ]
     },
     "execution_count": 117,
     "metadata": {},
     "output_type": "execute_result"
    },
    {
     "data": {
      "image/png": "[encoded data removed]",
      "text/plain": [
       "<Figure size 540x540 with 12 Axes>"
      ]
     },
     "metadata": {
      "needs_background": "light"
     },
     "output_type": "display_data"
    }
   ],
   "source": [
    "# visualizing some overarching themes between numerical data\n",
    "\n",
    "sns.pairplot(dd, palette='Blues') "
   ]
  }
 ],
 "metadata": {
  "kernelspec": {
   "display_name": "Python 3.8.2 32-bit",
   "language": "python",
   "name": "python38232bit47e23a2d55aa42e6b3245190be0b7aec"
  },
  "language_info": {
   "codemirror_mode": {
    "name": "ipython",
    "version": 3
   },
   "file_extension": ".py",
   "mimetype": "text/x-python",
   "name": "python",
   "nbconvert_exporter": "python",
   "pygments_lexer": "ipython3",
   "version": "3.8.5"
  }
 },
 "nbformat": 4,
 "nbformat_minor": 2
}
